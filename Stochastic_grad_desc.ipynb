{
  "nbformat": 4,
  "nbformat_minor": 0,
  "metadata": {
    "colab": {
      "provenance": [],
      "authorship_tag": "ABX9TyN6Aj0zKmFXG3Oaq0ZgByxI",
      "include_colab_link": true
    },
    "kernelspec": {
      "name": "python3",
      "display_name": "Python 3"
    },
    "language_info": {
      "name": "python"
    }
  },
  "cells": [
    {
      "cell_type": "markdown",
      "metadata": {
        "id": "view-in-github",
        "colab_type": "text"
      },
      "source": [
        "<a href=\"https://colab.research.google.com/github/tej007-awesome/Machine-Learning-Projects/blob/main/Stochastic_grad_desc.ipynb\" target=\"_parent\"><img src=\"https://colab.research.google.com/assets/colab-badge.svg\" alt=\"Open In Colab\"/></a>"
      ]
    },
    {
      "cell_type": "code",
      "source": [
        "import numpy as np\n",
        "import pandas as pd\n",
        "from sklearn.model_selection import train_test_split\n",
        "\n",
        "# Load the dataset\n",
        "diabetes_data = pd.read_csv('diabetes.csv')\n",
        "\n",
        "class StochasticGradientDescent:\n",
        "    def __init__(self, learning_rate=0.01, max_iter=1000, tol=1e-3, shuffle=True, random_state=None):\n",
        "        self.learning_rate = learning_rate\n",
        "        self.max_iter = max_iter\n",
        "        self.tol = tol\n",
        "        self.shuffle = shuffle\n",
        "        self.random_state = random_state\n",
        "        self.weights = None\n",
        "        self.bias = None\n",
        "\n",
        "    def fit(self, X, y):\n",
        "        if self.random_state:\n",
        "            np.random.seed(self.random_state)\n",
        "\n",
        "        self.weights = np.random.rand(X.shape[1])\n",
        "        self.bias = np.random.rand(1)\n",
        "        n_samples = X.shape[0]\n",
        "\n",
        "        for _ in range(self.max_iter):\n",
        "            if self.shuffle:\n",
        "                X, y = self._shuffle_data(X, y)\n",
        "\n",
        "            for i in range(n_samples):\n",
        "                sample_X = X[i]\n",
        "                sample_y = y[i]\n",
        "                prediction = self._predict(sample_X)\n",
        "                error = sample_y - prediction\n",
        "                self.weights += self.learning_rate * error * sample_X\n",
        "                self.bias += self.learning_rate * error\n",
        "\n",
        "            # Check for convergence\n",
        "            if np.linalg.norm(error) < self.tol:\n",
        "                break\n",
        "\n",
        "    def _predict(self, X):\n",
        "        return np.dot(X, self.weights) + self.bias\n",
        "\n",
        "    def _shuffle_data(self, X, y):\n",
        "        indices = np.arange(X.shape[0])\n",
        "        np.random.shuffle(indices)\n",
        "        return X[indices], y[indices]\n",
        "\n",
        "    def predict(self, X):\n",
        "        return np.dot(X, self.weights) + self.bias\n",
        "\n"
      ],
      "metadata": {
        "id": "8s_EEM49SWFf"
      },
      "execution_count": 1,
      "outputs": []
    }
  ]
}